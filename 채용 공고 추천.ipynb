{
 "cells": [
  {
   "cell_type": "code",
   "execution_count": null,
   "metadata": {
    "ExecuteTime": {
     "end_time": "2021-07-24T08:27:09.619804Z",
     "start_time": "2021-07-24T08:27:09.601706Z"
    }
   },
   "outputs": [],
   "source": [
    "import pandas as pd\n",
    "import numpy as np\n",
    "import os\n",
    "import warnings\n",
    "warnings.filterwarnings('ignore')"
   ]
  },
  {
   "cell_type": "code",
   "execution_count": 308,
   "metadata": {
    "ExecuteTime": {
     "end_time": "2021-07-24T08:27:24.240298Z",
     "start_time": "2021-07-24T08:27:24.222274Z"
    }
   },
   "outputs": [
    {
     "data": {
      "text/plain": [
       "['.ipynb_checkpoints',\n",
       " '.log',\n",
       " 'job_companies.csv',\n",
       " 'job_tags.csv',\n",
       " 'sample_output_job.csv',\n",
       " 'submission.csv',\n",
       " 'tags.csv',\n",
       " 'test_job.csv',\n",
       " 'train.csv',\n",
       " 'Untitled.ipynb',\n",
       " 'user_tags.csv']"
      ]
     },
     "execution_count": 308,
     "metadata": {},
     "output_type": "execute_result"
    }
   ],
   "source": [
    "os.listdir('./')"
   ]
  },
  {
   "cell_type": "code",
   "execution_count": null,
   "metadata": {
    "ExecuteTime": {
     "end_time": "2021-07-24T08:27:11.822701Z",
     "start_time": "2021-07-24T08:27:11.791696Z"
    }
   },
   "outputs": [],
   "source": [
    "# 훈련데이터\n",
    "train_df = pd.read_csv('./train.csv')\n",
    "print(train_df.shape)\n",
    "train_df.head(3)"
   ]
  },
  {
   "cell_type": "code",
   "execution_count": null,
   "metadata": {
    "ExecuteTime": {
     "end_time": "2021-07-24T06:57:48.553816Z",
     "start_time": "2021-07-24T06:57:48.535802Z"
    }
   },
   "outputs": [],
   "source": [
    "# 테스트 데이터\n",
    "test_df = pd.read_csv('./test_job.csv')\n",
    "print(test_df.shape)\n",
    "test_df.head(3)"
   ]
  },
  {
   "cell_type": "code",
   "execution_count": null,
   "metadata": {
    "ExecuteTime": {
     "end_time": "2021-07-24T06:57:48.710771Z",
     "start_time": "2021-07-24T06:57:48.689771Z"
    }
   },
   "outputs": [],
   "source": [
    "# Job 태그 : 하나의 Job에 여러 태그 가능\n",
    "job_tag_df = pd.read_csv('./job_tags.csv')\n",
    "print(job_tag_df.shape)\n",
    "job_tag_df.head(3)"
   ]
  },
  {
   "cell_type": "code",
   "execution_count": null,
   "metadata": {
    "ExecuteTime": {
     "end_time": "2021-07-24T06:57:48.899939Z",
     "start_time": "2021-07-24T06:57:48.871948Z"
    }
   },
   "outputs": [],
   "source": [
    "# User tag : 각 개발자가 등록한 관심 태그\n",
    "user_tag_df = pd.read_csv('./user_tags.csv')\n",
    "print(user_tag_df.shape)\n",
    "user_tag_df.head(3)"
   ]
  },
  {
   "cell_type": "code",
   "execution_count": null,
   "metadata": {
    "ExecuteTime": {
     "end_time": "2021-07-24T06:57:49.056808Z",
     "start_time": "2021-07-24T06:57:49.040788Z"
    }
   },
   "outputs": [],
   "source": [
    "# company\n",
    "company_df = pd.read_csv('./job_companies.csv')\n",
    "print(company_df.shape)\n",
    "company_df.head(3)"
   ]
  },
  {
   "cell_type": "code",
   "execution_count": null,
   "metadata": {
    "ExecuteTime": {
     "end_time": "2021-07-24T06:57:49.291751Z",
     "start_time": "2021-07-24T06:57:49.276499Z"
    }
   },
   "outputs": [],
   "source": [
    "# real tag\n",
    "tags = pd.read_csv('./tags.csv')\n",
    "print(tags.shape)\n",
    "tags.head(3)"
   ]
  },
  {
   "cell_type": "markdown",
   "metadata": {},
   "source": [
    "### Feature Engineering"
   ]
  },
  {
   "cell_type": "markdown",
   "metadata": {},
   "source": [
    "#### CompanySize"
   ]
  },
  {
   "cell_type": "code",
   "execution_count": null,
   "metadata": {
    "ExecuteTime": {
     "end_time": "2021-07-24T06:57:50.198710Z",
     "start_time": "2021-07-24T06:57:50.170704Z"
    }
   },
   "outputs": [],
   "source": [
    "# add companySize to train,test_df\n",
    "train_df = train_df.merge(company_df[['jobID','companySize']], on='jobID')\n",
    "test_df = test_df.merge(company_df[['jobID','companySize']], on='jobID')\n",
    "train_df.head(3)"
   ]
  },
  {
   "cell_type": "code",
   "execution_count": null,
   "metadata": {
    "ExecuteTime": {
     "end_time": "2021-07-24T06:57:50.466048Z",
     "start_time": "2021-07-24T06:57:50.445509Z"
    }
   },
   "outputs": [],
   "source": [
    "def func(data):\n",
    "    if data == '1000 이상': return 1000\n",
    "    data = data.split('-')\n",
    "    data = (int(data[0])+int(data[1]))//2\n",
    "    return data\n",
    "train_df['companySize'] = train_df['companySize'].apply(lambda x: func(x) if type(x)==str else x)\n",
    "test_df['companySize'] = test_df['companySize'].apply(lambda x: func(x) if type(x)==str else x)"
   ]
  },
  {
   "cell_type": "code",
   "execution_count": null,
   "metadata": {
    "ExecuteTime": {
     "end_time": "2021-07-24T06:57:51.073917Z",
     "start_time": "2021-07-24T06:57:51.057405Z"
    }
   },
   "outputs": [],
   "source": [
    "print(train_df['companySize'].isna().sum())\n",
    "print(test_df['companySize'].isna().sum())"
   ]
  },
  {
   "cell_type": "code",
   "execution_count": null,
   "metadata": {
    "ExecuteTime": {
     "end_time": "2021-07-24T06:57:51.401202Z",
     "start_time": "2021-07-24T06:57:51.383661Z"
    }
   },
   "outputs": [],
   "source": [
    "def Fillna_median(df):\n",
    "    median = df['companySize'].median()\n",
    "    return df['companySize'].fillna(median)\n",
    "train_df['companySize'] = Fillna_median(train_df)\n",
    "test_df['companySize'] = Fillna_median(test_df)"
   ]
  },
  {
   "cell_type": "markdown",
   "metadata": {
    "ExecuteTime": {
     "end_time": "2021-07-13T05:54:25.211465Z",
     "start_time": "2021-07-13T05:54:25.191484Z"
    }
   },
   "source": [
    "#### tag match count"
   ]
  },
  {
   "cell_type": "code",
   "execution_count": null,
   "metadata": {
    "ExecuteTime": {
     "end_time": "2021-07-24T06:58:10.135731Z",
     "start_time": "2021-07-24T06:57:52.545352Z"
    }
   },
   "outputs": [],
   "source": [
    "def Tag_match(df):\n",
    "    from tqdm.notebook import tqdm\n",
    "    tag_match = []\n",
    "    User = df['userID']\n",
    "    Job = df['jobID']\n",
    "    for user, job in tqdm(zip(User, Job)):\n",
    "        user_tag_list = user_tag_df[user_tag_df['userID']==user]['tagID'].values\n",
    "        job_tag_list = job_tag_df[job_tag_df['jobID']==job]['tagID'].values\n",
    "        job_tag_total = len(job_tag_list)\n",
    "        cnt = 0\n",
    "        for i in user_tag_list:\n",
    "            if i in job_tag_list:\n",
    "                cnt += 1\n",
    "        tag_match.append(cnt/job_tag_total)\n",
    "    return tag_match\n",
    "train_df['tag_match_rate'] = Tag_match(train_df)\n",
    "test_df['tag_match_rate'] = Tag_match(test_df)"
   ]
  },
  {
   "cell_type": "markdown",
   "metadata": {},
   "source": [
    "#### mean encoding??????"
   ]
  },
  {
   "cell_type": "code",
   "execution_count": null,
   "metadata": {
    "ExecuteTime": {
     "end_time": "2021-07-24T07:00:48.905007Z",
     "start_time": "2021-07-24T06:58:10.137731Z"
    }
   },
   "outputs": [],
   "source": [
    "# mean encoding\n",
    "train_tag_df = job_tag_df.merge(train_df[['jobID', 'applied']], on='jobID', how='left')\n",
    "tag_mean = train_tag_df.groupby(by=['tagID'])[['applied']].mean()\n",
    "\n",
    "def MeanEncoding(df):\n",
    "    from tqdm.notebook import tqdm\n",
    "    tag_encoding = []\n",
    "    for i in tqdm(df['jobID']):\n",
    "        tag = train_tag_df[train_tag_df['jobID']==i]['tagID'].values\n",
    "        mean = 0\n",
    "        for j in tag:\n",
    "            mean += tag_mean[tag_mean.index==j]['applied'].values[0]\n",
    "        tag_encoding.append(mean)\n",
    "    return tag_encoding\n",
    "train_df['jobID'] = MeanEncoding(train_df)\n",
    "test_df['jobID'] = MeanEncoding(test_df)"
   ]
  },
  {
   "cell_type": "code",
   "execution_count": null,
   "metadata": {
    "ExecuteTime": {
     "end_time": "2021-07-24T07:04:26.162247Z",
     "start_time": "2021-07-24T07:04:26.159255Z"
    }
   },
   "outputs": [],
   "source": [
    "test_df['jobID'] = test_df['jobID'].fillna(test_df['jobID'].mean())"
   ]
  },
  {
   "cell_type": "code",
   "execution_count": null,
   "metadata": {},
   "outputs": [],
   "source": []
  },
  {
   "cell_type": "code",
   "execution_count": null,
   "metadata": {
    "ExecuteTime": {
     "end_time": "2021-07-24T07:04:27.390868Z",
     "start_time": "2021-07-24T07:04:27.369839Z"
    }
   },
   "outputs": [],
   "source": [
    "tags.keyword.unique()[:10]\n",
    "# -> 단어 유사도...?"
   ]
  },
  {
   "cell_type": "code",
   "execution_count": null,
   "metadata": {},
   "outputs": [],
   "source": []
  },
  {
   "cell_type": "markdown",
   "metadata": {},
   "source": [
    "### EDA"
   ]
  },
  {
   "cell_type": "code",
   "execution_count": 138,
   "metadata": {
    "ExecuteTime": {
     "end_time": "2021-07-24T07:04:28.851047Z",
     "start_time": "2021-07-24T07:04:28.450698Z"
    }
   },
   "outputs": [
    {
     "data": {
      "text/plain": [
       "<AxesSubplot:xlabel='tag_match_rate', ylabel='Density'>"
      ]
     },
     "execution_count": 138,
     "metadata": {},
     "output_type": "execute_result"
    },
    {
     "data": {
      "image/png": "[encoded data removed]",
      "text/plain": [
       "<Figure size 864x216 with 2 Axes>"
      ]
     },
     "metadata": {
      "needs_background": "light"
     },
     "output_type": "display_data"
    }
   ],
   "source": [
    "%matplotlib inline\n",
    "import matplotlib.pyplot as plt\n",
    "import seaborn as sns\n",
    "\n",
    "f, ax = plt.subplots(1, 2, figsize=(12,3))\n",
    "sns.distplot(train_df['companySize'], ax=ax[0])\n",
    "sns.distplot(train_df['tag_match_rate'], ax=ax[1])"
   ]
  },
  {
   "cell_type": "code",
   "execution_count": 139,
   "metadata": {
    "ExecuteTime": {
     "end_time": "2021-07-24T07:04:29.169113Z",
     "start_time": "2021-07-24T07:04:28.853033Z"
    }
   },
   "outputs": [
    {
     "data": {
      "text/plain": [
       "<AxesSubplot:xlabel='tag_match_rate', ylabel='Density'>"
      ]
     },
     "execution_count": 139,
     "metadata": {},
     "output_type": "execute_result"
    },
    {
     "data": {
      "image/png": "[encoded data removed]",
      "text/plain": [
       "<Figure size 864x216 with 2 Axes>"
      ]
     },
     "metadata": {
      "needs_background": "light"
     },
     "output_type": "display_data"
    }
   ],
   "source": [
    "log_size = train_df['companySize'].apply(lambda x: np.log(x) if x!=0 else x)\n",
    "log_rate = train_df['tag_match_rate'].apply(lambda x: np.log(x) if x!=0 else x)\n",
    "\n",
    "f, ax = plt.subplots(1, 2, figsize=(12,3))\n",
    "sns.distplot(log_size, ax=ax[0])\n",
    "sns.distplot(log_rate, ax=ax[1])"
   ]
  },
  {
   "cell_type": "code",
   "execution_count": null,
   "metadata": {
    "ExecuteTime": {
     "end_time": "2021-07-24T07:04:29.216637Z",
     "start_time": "2021-07-24T07:04:29.178107Z"
    }
   },
   "outputs": [],
   "source": [
    "def Log(df):\n",
    "    df['companySize'] = df['companySize'].apply(lambda x: np.log(x) if x!=0 else x)\n",
    "    df['tag_match_rate'] = df['tag_match_rate'].apply(lambda x: np.log(x) if x!=0 else x)\n",
    "Log(train_df); Log(test_df)"
   ]
  },
  {
   "cell_type": "markdown",
   "metadata": {},
   "source": [
    "### Preprocessing"
   ]
  },
  {
   "cell_type": "code",
   "execution_count": null,
   "metadata": {
    "ExecuteTime": {
     "end_time": "2021-07-24T07:05:21.660874Z",
     "start_time": "2021-07-24T07:05:21.643341Z"
    }
   },
   "outputs": [],
   "source": [
    "concat_df = pd.concat([train_df, test_df])\n",
    "\n",
    "from sklearn.preprocessing import LabelEncoder\n",
    "le = LabelEncoder()\n",
    "for col in ['userID']:\n",
    "    concat_df[col] = le.fit_transform(concat_df[col])\n",
    "    \n",
    "train_df = concat_df.iloc[:train_df.shape[0], :]\n",
    "test_df = concat_df.iloc[train_df.shape[0]:, :]\n",
    "train_df['applied'] = train_df['applied'].astype(int)\n",
    "test_df.drop('applied', axis=1, inplace=True)"
   ]
  },
  {
   "cell_type": "code",
   "execution_count": null,
   "metadata": {
    "ExecuteTime": {
     "end_time": "2021-07-24T07:07:27.722892Z",
     "start_time": "2021-07-24T07:07:27.717891Z"
    }
   },
   "outputs": [],
   "source": [
    "def Scalling(df, scaler='standard', label_col=None):\n",
    "    'scaler = standard, minmax, maxabs, robust'\n",
    "    from sklearn.preprocessing import StandardScaler, MinMaxScaler, MaxAbsScaler, RobustScaler\n",
    "    if scaler == 'standard': scaler = StandardScaler()\n",
    "    elif scaler == 'minmax': scaler = MinMaxScaler()\n",
    "    elif scaler == 'maxabs': scaler = MaxAbsScaler()\n",
    "    elif scaler == 'robust': scaler = RobustScaler()\n",
    "    \n",
    "    if label_col:\n",
    "        df2 = df.drop(label_col, axis=1)\n",
    "        val = scaler.fit_transform(df2)\n",
    "        df2 = pd.DataFrame(val, columns=df2.columns, index=df.index)\n",
    "        df2[label_col] = df[label_col]; df = df2.copy()\n",
    "    else:\n",
    "        val = scaler.fit_transform(df)\n",
    "        df = pd.DataFrame(val, columns=df.columns, index=df.index)\n",
    "    return df"
   ]
  },
  {
   "cell_type": "code",
   "execution_count": null,
   "metadata": {
    "ExecuteTime": {
     "end_time": "2021-07-24T07:07:28.004992Z",
     "start_time": "2021-07-24T07:07:27.987990Z"
    }
   },
   "outputs": [],
   "source": [
    "train_df[['companySize', 'tag_match_rate']] = Scalling(train_df[['companySize', 'tag_match_rate']], scaler='minmax')"
   ]
  },
  {
   "cell_type": "markdown",
   "metadata": {},
   "source": [
    "### train and predict"
   ]
  },
  {
   "cell_type": "code",
   "execution_count": null,
   "metadata": {
    "ExecuteTime": {
     "end_time": "2021-07-24T07:07:29.341975Z",
     "start_time": "2021-07-24T07:07:29.330994Z"
    }
   },
   "outputs": [],
   "source": [
    "from sklearn.model_selection import train_test_split\n",
    "from sklearn.model_selection import StratifiedKFold\n",
    "from sklearn.model_selection import cross_val_score\n",
    "from sklearn.ensemble import RandomForestClassifier\n",
    "from sklearn.metrics import accuracy_score"
   ]
  },
  {
   "cell_type": "code",
   "execution_count": 147,
   "metadata": {
    "ExecuteTime": {
     "end_time": "2021-07-24T07:07:30.160116Z",
     "start_time": "2021-07-24T07:07:30.142607Z"
    }
   },
   "outputs": [
    {
     "name": "stdout",
     "output_type": "stream",
     "text": [
      "(4800, 4) (1200, 4)\n",
      "(4800,) (1200,)\n"
     ]
    }
   ],
   "source": [
    "fold = StratifiedKFold(n_splits=5, shuffle=True, random_state=121)\n",
    "\n",
    "X = train_df.drop('applied', axis=1)\n",
    "y = train_df['applied']\n",
    "X_train, X_test, y_train, y_test = train_test_split(X, y, test_size=0.2, random_state=121)\n",
    "print(X_train.shape, X_test.shape)\n",
    "print(y_train.shape, y_test.shape)"
   ]
  },
  {
   "cell_type": "code",
   "execution_count": 148,
   "metadata": {
    "ExecuteTime": {
     "end_time": "2021-07-24T07:07:33.981452Z",
     "start_time": "2021-07-24T07:07:31.030877Z"
    }
   },
   "outputs": [
    {
     "name": "stdout",
     "output_type": "stream",
     "text": [
      "accuracy is 0.8417\n",
      "cv accuracy is 0.8498\n"
     ]
    }
   ],
   "source": [
    "rf = RandomForestClassifier(random_state=121, n_estimators=100, n_jobs=2)\n",
    "\n",
    "rf.fit(X_train, y_train)\n",
    "pred = rf.predict(X_test)\n",
    "print(f'accuracy is {accuracy_score(pred, y_test):.4f}')\n",
    "\n",
    "cv_result = cross_val_score(rf, X, y, scoring='accuracy', n_jobs=2, cv=fold)\n",
    "print(f'cv accuracy is {cv_result.mean():.4f}')"
   ]
  },
  {
   "cell_type": "code",
   "execution_count": 150,
   "metadata": {
    "ExecuteTime": {
     "end_time": "2021-07-24T07:10:24.919312Z",
     "start_time": "2021-07-24T07:10:24.804267Z"
    }
   },
   "outputs": [
    {
     "data": {
      "text/plain": [
       "<AxesSubplot:>"
      ]
     },
     "execution_count": 150,
     "metadata": {},
     "output_type": "execute_result"
    },
    {
     "data": {
      "image/png": "[encoded data removed]",
      "text/plain": [
       "<Figure size 432x288 with 1 Axes>"
      ]
     },
     "metadata": {
      "needs_background": "light"
     },
     "output_type": "display_data"
    }
   ],
   "source": [
    "pd.Series(rf.feature_importances_, X.columns).sort_values().plot.barh()"
   ]
  },
  {
   "cell_type": "code",
   "execution_count": 235,
   "metadata": {
    "ExecuteTime": {
     "end_time": "2021-07-24T07:22:37.554952Z",
     "start_time": "2021-07-24T07:22:37.066854Z"
    }
   },
   "outputs": [
    {
     "name": "stdout",
     "output_type": "stream",
     "text": [
      "259\n",
      "accuracy score is: 0.8638\n"
     ]
    }
   ],
   "source": [
    "# LightGBM\n",
    "from lightgbm import LGBMClassifier\n",
    "\n",
    "n_estimators = 1000\n",
    "num_leaves = 12\n",
    "max_depth = 7\n",
    "min_child_samples = 10\n",
    "learn_rate = 0.04\n",
    "\n",
    "light = LGBMClassifier(n_estimators=n_estimators, num_leaves=num_leaves,\n",
    "                       max_depth=max_depth, random_state=121,\n",
    "                       min_child_samples=min_child_samples,\n",
    "                       learning_rate=learn_rate)\n",
    "light.fit(X_train, y_train, eval_set=[(X_test,y_test)], early_stopping_rounds=50, verbose=0)\n",
    "print(light.best_iteration_)\n",
    "n_estimators = light.best_iteration_\n",
    "\n",
    "light = LGBMClassifier(n_estimators=n_estimators, num_leaves=num_leaves,\n",
    "                       max_depth=max_depth, random_state=121,\n",
    "                       min_child_samples=min_child_samples,\n",
    "                       learning_rate=learn_rate)\n",
    "light.fit(X_train, y_train)\n",
    "pred = light.predict(X_test)\n",
    "\n",
    "cv_result = cross_val_score(light, X, y, scoring='accuracy', cv=fold, n_jobs=2)\n",
    "print('accuracy score is: {:.4f}'.format(cv_result.mean()))"
   ]
  },
  {
   "cell_type": "code",
   "execution_count": 238,
   "metadata": {
    "ExecuteTime": {
     "end_time": "2021-07-24T07:30:45.105041Z",
     "start_time": "2021-07-24T07:30:37.399307Z"
    }
   },
   "outputs": [
    {
     "name": "stdout",
     "output_type": "stream",
     "text": [
      "Logistic : 0.8583\n",
      "KNeighbors : 0.8502\n",
      "Naive : 0.8522\n",
      "Extra : 0.8377\n",
      "Ada : 0.8585\n",
      "Random : 0.8495\n",
      "light : 0.8638\n"
     ]
    }
   ],
   "source": [
    "from sklearn.linear_model import LogisticRegression\n",
    "from sklearn.neighbors import KNeighborsClassifier\n",
    "from sklearn.naive_bayes import GaussianNB\n",
    "from sklearn.ensemble import ExtraTreesClassifier\n",
    "from sklearn.ensemble import AdaBoostClassifier\n",
    "LR = LogisticRegression()\n",
    "KN = KNeighborsClassifier(n_neighbors=4)\n",
    "NB = GaussianNB()\n",
    "EX = ExtraTreesClassifier()\n",
    "Ada = AdaBoostClassifier(n_estimators=100)\n",
    "RF = RandomForestClassifier()\n",
    "\n",
    "models = [LR, KN, NB, EX, Ada, RF, light]\n",
    "models_name = ['Logistic', 'KNeighbors', 'Naive', 'Extra', 'Ada', 'Random', 'light']\n",
    "preds = []\n",
    "for model, name in zip(models, models_name):\n",
    "    cv_result = cross_val_score(model, X, y, scoring='accuracy', cv=fold).mean()\n",
    "    \n",
    "    model.fit(X_train, y_train)\n",
    "    preds.append(model.predict(X_test))\n",
    "    \n",
    "    print(f'{name} : {cv_result:.4f}')"
   ]
  },
  {
   "cell_type": "code",
   "execution_count": 247,
   "metadata": {
    "ExecuteTime": {
     "end_time": "2021-07-24T07:32:24.464573Z",
     "start_time": "2021-07-24T07:32:24.159393Z"
    }
   },
   "outputs": [
    {
     "data": {
      "text/plain": [
       "<AxesSubplot:>"
      ]
     },
     "execution_count": 247,
     "metadata": {},
     "output_type": "execute_result"
    },
    {
     "data": {
      "image/png": "[encoded data removed]",
      "text/plain": [
       "<Figure size 432x288 with 2 Axes>"
      ]
     },
     "metadata": {
      "needs_background": "light"
     },
     "output_type": "display_data"
    }
   ],
   "source": [
    "pred_df = pd.DataFrame(preds).T\n",
    "pred_df.columns = models_name\n",
    "sns.heatmap(pred_df.corr(), annot=True)"
   ]
  },
  {
   "cell_type": "code",
   "execution_count": 303,
   "metadata": {
    "ExecuteTime": {
     "end_time": "2021-07-24T08:24:48.179470Z",
     "start_time": "2021-07-24T08:17:51.143690Z"
    }
   },
   "outputs": [
    {
     "data": {
      "application/vnd.jupyter.widget-view+json": {
       "model_id": "303ce0b6a9964701921c301ac39d240c",
       "version_major": 2,
       "version_minor": 0
      },
      "text/plain": [
       "  0%|          | 0/5 [00:00<?, ?it/s]"
      ]
     },
     "metadata": {},
     "output_type": "display_data"
    },
    {
     "name": "stdout",
     "output_type": "stream",
     "text": [
      "0.8607\n",
      "0.8620\n",
      "0.8620\n",
      "0.8620\n",
      "0.8620\n",
      "(KNeighborsClassifier(n_neighbors=4), GaussianNB(), ExtraTreesClassifier(), AdaBoostClassifier(n_estimators=100), RandomForestClassifier(), LGBMClassifier(learning_rate=0.04, max_depth=7, min_child_samples=10,\n",
      "               n_estimators=259, num_leaves=12, random_state=121)) 0.8620\n"
     ]
    }
   ],
   "source": [
    "from sklearn.ensemble import VotingClassifier\n",
    "import itertools\n",
    "from tqdm.notebook import tqdm\n",
    "Models = [LR, KN, NB, EX, Ada, RF, light]\n",
    "best_score = 0\n",
    "available_combine = range(2,len(Models))\n",
    "for num in tqdm(available_combine):\n",
    "    for i in itertools.combinations(Models,num):\n",
    "        models = []\n",
    "        for j in i:\n",
    "            models.append(j)\n",
    "        estimators = []\n",
    "        for n, model in enumerate(models):\n",
    "            estimators.append((str(n), model))\n",
    "        voting = VotingClassifier(estimators=estimators, voting='hard')\n",
    "        cv_result = cross_val_score(voting, X, y, scoring='accuracy', cv=fold).mean()\n",
    "        if cv_result > best_score:\n",
    "            best_score = cv_result\n",
    "            best_combinations = i\n",
    "            best_model = voting\n",
    "    print(f'{best_score:.4f}')\n",
    "print(f'{i} {best_score:.4f}')"
   ]
  },
  {
   "cell_type": "markdown",
   "metadata": {},
   "source": [
    "### Submission"
   ]
  },
  {
   "cell_type": "code",
   "execution_count": null,
   "metadata": {
    "ExecuteTime": {
     "end_time": "2021-07-24T08:14:04.747998Z",
     "start_time": "2021-07-24T08:14:04.634973Z"
    }
   },
   "outputs": [],
   "source": [
    "model = light\n",
    "model.fit(X, y)\n",
    "predict = model.predict(test_df)\n",
    "\n",
    "submission = pd.DataFrame(predict, columns=['applied'])\n",
    "submission"
   ]
  },
  {
   "cell_type": "code",
   "execution_count": null,
   "metadata": {
    "ExecuteTime": {
     "end_time": "2021-07-24T08:14:06.768830Z",
     "start_time": "2021-07-24T08:14:06.753314Z"
    }
   },
   "outputs": [],
   "source": [
    "submission.to_csv('./submission.csv', index=False)"
   ]
  },
  {
   "cell_type": "code",
   "execution_count": null,
   "metadata": {},
   "outputs": [],
   "source": []
  }
 ],
 "metadata": {
  "kernelspec": {
   "display_name": "Python 3",
   "language": "python",
   "name": "python3"
  },
  "language_info": {
   "codemirror_mode": {
    "name": "ipython",
    "version": 3
   },
   "file_extension": ".py",
   "mimetype": "text/x-python",
   "name": "python",
   "nbconvert_exporter": "python",
   "pygments_lexer": "ipython3",
   "version": "3.8.5"
  },
  "toc": {
   "base_numbering": 1,
   "nav_menu": {},
   "number_sections": true,
   "sideBar": true,
   "skip_h1_title": false,
   "title_cell": "Table of Contents",
   "title_sidebar": "Contents",
   "toc_cell": false,
   "toc_position": {},
   "toc_section_display": true,
   "toc_window_display": false
  }
 },
 "nbformat": 4,
 "nbformat_minor": 4
}
